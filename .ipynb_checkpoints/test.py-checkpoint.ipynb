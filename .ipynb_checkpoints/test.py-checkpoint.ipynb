{
 "cells": [
  {
   "cell_type": "markdown",
   "id": "pretty-elements",
   "metadata": {},
   "source": [
    "#### convert string to list"
   ]
  },
  {
   "cell_type": "code",
   "execution_count": null,
   "id": "unique-learning",
   "metadata": {},
   "outputs": [],
   "source": [
    "a = 'my wife is horny bitch, got it'\n",
    "print(a)\n",
    "l=a.split()\n",
    "print(l)"
   ]
  },
  {
   "cell_type": "markdown",
   "id": "placed-columbia",
   "metadata": {},
   "source": [
    "#### convert list to string"
   ]
  },
  {
   "cell_type": "code",
   "execution_count": null,
   "id": "flush-webster",
   "metadata": {},
   "outputs": [],
   "source": [
    "#convert list to string\n",
    "new_string= '-'.join(l)\n",
    "print(new_string)"
   ]
  },
  {
   "cell_type": "code",
   "execution_count": null,
   "id": "flush-hurricane",
   "metadata": {},
   "outputs": [],
   "source": [
    "word = ['1','2','3','4']\n",
    "print(word)"
   ]
  },
  {
   "cell_type": "code",
   "execution_count": null,
   "id": "apparent-queensland",
   "metadata": {},
   "outputs": [],
   "source": []
  },
  {
   "cell_type": "code",
   "execution_count": null,
   "id": "important-scope",
   "metadata": {},
   "outputs": [],
   "source": []
  },
  {
   "cell_type": "code",
   "execution_count": null,
   "id": "unknown-style",
   "metadata": {},
   "outputs": [],
   "source": [
    "squares = []\n",
    "for x in range(10):\n",
    "    squares.append(x*x)\n",
    "print(squares)"
   ]
  },
  {
   "cell_type": "code",
   "execution_count": null,
   "id": "cognitive-answer",
   "metadata": {},
   "outputs": [],
   "source": []
  },
  {
   "cell_type": "code",
   "execution_count": null,
   "id": "convenient-jacket",
   "metadata": {},
   "outputs": [],
   "source": [
    "squares=[x*x for x in range(10) if x%2==0]\n",
    "print(squares)"
   ]
  },
  {
   "cell_type": "code",
   "execution_count": 1,
   "id": "accepting-feature",
   "metadata": {},
   "outputs": [
    {
     "name": "stdout",
     "output_type": "stream",
     "text": [
      "[(1, 4, 7), (2, 5, 8), (3, 6, 9)]\n"
     ]
    }
   ],
   "source": [
    "vec = [[1,2,3], [4,5,6], [7,8,9]]\n",
    "print(list(zip(*vec)))"
   ]
  },
  {
   "cell_type": "code",
   "execution_count": null,
   "id": "fabulous-wonder",
   "metadata": {},
   "outputs": [],
   "source": [
    "x=[]\n",
    "for elem in vec:\n",
    "    for num in elem:\n",
    "        x.append(num)\n",
    "print(x)"
   ]
  },
  {
   "cell_type": "code",
   "execution_count": null,
   "id": "appropriate-heater",
   "metadata": {},
   "outputs": [],
   "source": [
    "input_tuple = ('Monty Python', 'British', 1969)\n",
    "print(input_tuple[0:2])"
   ]
  },
  {
   "cell_type": "markdown",
   "id": "baking-layout",
   "metadata": {},
   "source": [
    "#### Fetch and Assign Default value if key does not exist"
   ]
  },
  {
   "cell_type": "code",
   "execution_count": null,
   "id": "acquired-delay",
   "metadata": {},
   "outputs": [],
   "source": [
    "input_dict = {'Jack Dorsey' : 'Twitter' , 'Tim Cook' : 'Apple','Jeff Bezos' : 'Amazon' ,'Mukesh Ambani' : 'RJIO'}\n",
    "key = list(input_dict.keys())\n",
    "value = list(input_dict.values())\n",
    "new_list = key + value\n",
    "print(sorted(new_list))"
   ]
  },
  {
   "cell_type": "code",
   "execution_count": null,
   "id": "cardiac-drill",
   "metadata": {},
   "outputs": [],
   "source": [
    "d = dict(a=1, b=2)\n",
    "print(d)"
   ]
  },
  {
   "cell_type": "markdown",
   "id": "included-mount",
   "metadata": {},
   "source": [
    "# Python for Data Science "
   ]
  },
  {
   "cell_type": "markdown",
   "id": "weekly-nursing",
   "metadata": {},
   "source": [
    "## Numpy Basics"
   ]
  },
  {
   "cell_type": "code",
   "execution_count": 2,
   "id": "democratic-encyclopedia",
   "metadata": {},
   "outputs": [
    {
     "name": "stdout",
     "output_type": "stream",
     "text": [
      "[180 192 234]\n"
     ]
    }
   ],
   "source": [
    "import numpy as np\n",
    "list_1=[12,12,13]\n",
    "list_2=[15,16,18]\n",
    "array_a=np.array(list_1)\n",
    "array_b=np.array(list_2)\n",
    "array_c=array_a*array_b\n",
    "print(array_c)"
   ]
  },
  {
   "cell_type": "code",
   "execution_count": null,
   "id": "involved-anthropology",
   "metadata": {},
   "outputs": [],
   "source": [
    "np.ones((5,2),dtype=int)"
   ]
  },
  {
   "cell_type": "code",
   "execution_count": null,
   "id": "early-level",
   "metadata": {},
   "outputs": [],
   "source": [
    "np.random.random(5)"
   ]
  },
  {
   "cell_type": "code",
   "execution_count": null,
   "id": "internal-consultancy",
   "metadata": {},
   "outputs": [],
   "source": [
    "np.arange(5,100,5)"
   ]
  },
  {
   "cell_type": "code",
   "execution_count": null,
   "id": "closing-impression",
   "metadata": {},
   "outputs": [],
   "source": [
    "np.linspace(18,25,10)"
   ]
  },
  {
   "cell_type": "code",
   "execution_count": null,
   "id": "healthy-royalty",
   "metadata": {},
   "outputs": [],
   "source": [
    "help(np.tile)"
   ]
  },
  {
   "cell_type": "code",
   "execution_count": null,
   "id": "stupid-silly",
   "metadata": {},
   "outputs": [],
   "source": [
    "b = np.array([[0, 1], [1, 0]])"
   ]
  },
  {
   "cell_type": "code",
   "execution_count": null,
   "id": "ambient-majority",
   "metadata": {},
   "outputs": [],
   "source": [
    "np.tile(b, (2,1))"
   ]
  },
  {
   "cell_type": "code",
   "execution_count": 16,
   "id": "personal-dairy",
   "metadata": {},
   "outputs": [
    {
     "name": "stdout",
     "output_type": "stream",
     "text": [
      "[0 1 0 1]\n"
     ]
    }
   ],
   "source": [
    "a = np.resize([0,1], 4)\n",
    "print(a)\n",
    "m = np.abs(a-np.array([a]).T)\n",
    "#print(m)"
   ]
  },
  {
   "cell_type": "code",
   "execution_count": null,
   "id": "native-monaco",
   "metadata": {},
   "outputs": [],
   "source": [
    "a=np.arange(24).reshape(2,3,4)\n",
    "print(a)"
   ]
  },
  {
   "cell_type": "code",
   "execution_count": null,
   "id": "technical-repository",
   "metadata": {},
   "outputs": [],
   "source": [
    "np.full(2, [1,2])"
   ]
  },
  {
   "cell_type": "code",
   "execution_count": 22,
   "id": "thousand-custody",
   "metadata": {},
   "outputs": [
    {
     "name": "stdout",
     "output_type": "stream",
     "text": [
      "[[0 0 0 0 0]\n",
      " [1 0 0 0 0]\n",
      " [0 1 0 0 0]\n",
      " [0 0 1 0 0]\n",
      " [0 0 0 1 0]]\n"
     ]
    }
   ],
   "source": [
    "a=np.eye(5,k=1,dtype=int)\n",
    "b=np.array(a).T\n",
    "print(b)"
   ]
  },
  {
   "cell_type": "code",
   "execution_count": 128,
   "id": "ignored-pharmacology",
   "metadata": {},
   "outputs": [
    {
     "name": "stdout",
     "output_type": "stream",
     "text": [
      "[2 3]\n"
     ]
    }
   ],
   "source": [
    "l=[1,2,3,4]\n",
    "p=[2,3,4,5]\n",
    "c=np.array([l,p])\n",
    "print(c[:,1])"
   ]
  },
  {
   "cell_type": "code",
   "execution_count": null,
   "id": "disciplinary-control",
   "metadata": {},
   "outputs": [],
   "source": [
    "array_1 = [1, 2, 3 ,5 ,4, 6, 7, 8, 5, 3, 2]\n",
    "np.array(array_1)\n",
    "print(array_1[])"
   ]
  },
  {
   "cell_type": "code",
   "execution_count": 4,
   "id": "downtown-russia",
   "metadata": {},
   "outputs": [
    {
     "name": "stdout",
     "output_type": "stream",
     "text": [
      "[ 0  1  2  3  4  5  6  7  8  9 10 11]\n",
      "[12 13 14 15 16 17 18 19 20 21 22 23]\n",
      "[24 25 26 27 28 29 30 31 32 33 34 35]\n",
      "[36 37 38 39 40 41 42 43 44 45 46 47]\n",
      "[48 49 50 51 52 53 54 55 56 57 58 59]\n",
      "[60 61 62 63 64 65 66 67 68 69 70 71]\n",
      "[72 73 74 75 76 77 78 79 80 81 82 83]\n",
      "[84 85 86 87 88 89 90 91 92 93 94 95]\n",
      "[ 96  97  98  99 100 101 102 103 104 105 106 107]\n",
      "[108 109 110 111 112 113 114 115 116 117 118 119]\n",
      "[120 121 122 123 124 125 126 127 128 129 130 131]\n"
     ]
    }
   ],
   "source": [
    "a=np.arange(132).reshape(11,12)\n",
    "for row in a:\n",
    "    print(row)"
   ]
  },
  {
   "cell_type": "code",
   "execution_count": 6,
   "id": "adaptive-spencer",
   "metadata": {},
   "outputs": [
    {
     "ename": "TypeError",
     "evalue": "unravel_index() missing required argument 'shape' (pos 2)",
     "output_type": "error",
     "traceback": [
      "\u001b[0;31m---------------------------------------------------------------------------\u001b[0m",
      "\u001b[0;31mTypeError\u001b[0m                                 Traceback (most recent call last)",
      "\u001b[0;32m<ipython-input-6-19f1802bc422>\u001b[0m in \u001b[0;36m<module>\u001b[0;34m\u001b[0m\n\u001b[0;32m----> 1\u001b[0;31m \u001b[0mprint\u001b[0m\u001b[0;34m(\u001b[0m\u001b[0mnp\u001b[0m\u001b[0;34m.\u001b[0m\u001b[0munravel_index\u001b[0m\u001b[0;34m(\u001b[0m\u001b[0;36m100\u001b[0m\u001b[0;34m)\u001b[0m\u001b[0;34m)\u001b[0m\u001b[0;34m\u001b[0m\u001b[0;34m\u001b[0m\u001b[0m\n\u001b[0m",
      "\u001b[0;32m<__array_function__ internals>\u001b[0m in \u001b[0;36munravel_index\u001b[0;34m(*args, **kwargs)\u001b[0m\n",
      "\u001b[0;31mTypeError\u001b[0m: unravel_index() missing required argument 'shape' (pos 2)"
     ]
    }
   ],
   "source": [
    "print(np.unravel_index(100))"
   ]
  },
  {
   "cell_type": "code",
   "execution_count": 139,
   "id": "colonial-interaction",
   "metadata": {},
   "outputs": [
    {
     "name": "stdout",
     "output_type": "stream",
     "text": [
      "[11 21 31]\n",
      "[11 12 13 14]\n",
      "[14 24 34]\n",
      "[31 32 33 34]\n"
     ]
    }
   ],
   "source": [
    "a=[[11,12,13,14],[21,22,23,24],[31,32,33,34]]\n",
    "c=np.array(a)\n",
    "print(c[:,0])\n",
    "print(c[0,:])\n",
    "print(c[:,-1])\n",
    "print(c[-1,:])"
   ]
  },
  {
   "cell_type": "code",
   "execution_count": 9,
   "id": "adopted-argentina",
   "metadata": {},
   "outputs": [
    {
     "name": "stdout",
     "output_type": "stream",
     "text": [
      "[4 3 1]\n"
     ]
    }
   ],
   "source": [
    "a = np.array([[4, 3, 1], [5, 7, 0], [9, 9, 3], [8, 2, 4]])\n",
    "print(a[0,:])"
   ]
  },
  {
   "cell_type": "code",
   "execution_count": 13,
   "id": "eight-poverty",
   "metadata": {},
   "outputs": [
    {
     "name": "stdout",
     "output_type": "stream",
     "text": [
      "[[5 7 0]\n",
      " [4 3 1]\n",
      " [9 9 3]\n",
      " [8 2 4]]\n",
      "\n",
      "After swapping arrays:\n",
      "[[9 9 3]\n",
      " [4 3 1]\n",
      " [5 7 0]\n",
      " [8 2 4]]\n"
     ]
    }
   ],
   "source": [
    "import numpy as np\n",
    "print(a)\n",
    "a[[0, 2],:] = a[[2, 0],:]\n",
    "print(\"\\nAfter swapping arrays:\")\n",
    "print(a)"
   ]
  },
  {
   "cell_type": "code",
   "execution_count": 24,
   "id": "professional-batch",
   "metadata": {},
   "outputs": [
    {
     "name": "stdout",
     "output_type": "stream",
     "text": [
      "2\n",
      "[[1 1]\n",
      " [1 1]]\n"
     ]
    }
   ],
   "source": [
    "n = int(input())\n",
    "a=np.ones((n,n),dtype=int)\n",
    "a[1:-1,1:-1] = 0   \n",
    "print(a)"
   ]
  },
  {
   "cell_type": "markdown",
   "id": "confirmed-latin",
   "metadata": {},
   "source": [
    "#### find out if column values have special characters/expressions (\",-@*:%^& etc...) in a dataframe?"
   ]
  },
  {
   "cell_type": "code",
   "execution_count": 1,
   "id": "final-nepal",
   "metadata": {},
   "outputs": [
    {
     "ename": "SyntaxError",
     "evalue": "invalid syntax (<ipython-input-1-19c512bc635f>, line 5)",
     "output_type": "error",
     "traceback": [
      "\u001b[0;36m  File \u001b[0;32m\"<ipython-input-1-19c512bc635f>\"\u001b[0;36m, line \u001b[0;32m5\u001b[0m\n\u001b[0;31m    print re.sub(r'['+chars+']', '',my_str)  # chars we want to replace, by which value, string\u001b[0m\n\u001b[0m          ^\u001b[0m\n\u001b[0;31mSyntaxError\u001b[0m\u001b[0;31m:\u001b[0m invalid syntax\n"
     ]
    }
   ],
   "source": [
    "import string \n",
    "import re   # regular expression \n",
    "my_str = \"hey th~!ere\" \n",
    "chars = re.escape(string.punctuation)   # all punctuation like ~, ! etc \n",
    "print re.sub(r'['+chars+']', '',my_str)  # chars we want to replace, by which value, string "
   ]
  },
  {
   "cell_type": "code",
   "execution_count": null,
   "id": "continuing-comfort",
   "metadata": {},
   "outputs": [],
   "source": []
  },
  {
   "cell_type": "code",
   "execution_count": null,
   "id": "intellectual-alexandria",
   "metadata": {},
   "outputs": [],
   "source": []
  },
  {
   "cell_type": "code",
   "execution_count": null,
   "id": "sunrise-performer",
   "metadata": {},
   "outputs": [],
   "source": []
  },
  {
   "cell_type": "code",
   "execution_count": null,
   "id": "checked-prompt",
   "metadata": {},
   "outputs": [],
   "source": []
  },
  {
   "cell_type": "code",
   "execution_count": null,
   "id": "developed-reynolds",
   "metadata": {},
   "outputs": [],
   "source": [
    "\n"
   ]
  },
  {
   "cell_type": "code",
   "execution_count": null,
   "id": "surgical-commonwealth",
   "metadata": {},
   "outputs": [],
   "source": []
  },
  {
   "cell_type": "code",
   "execution_count": null,
   "id": "inner-appreciation",
   "metadata": {},
   "outputs": [],
   "source": []
  },
  {
   "cell_type": "code",
   "execution_count": null,
   "id": "chemical-vitamin",
   "metadata": {},
   "outputs": [],
   "source": []
  }
 ],
 "metadata": {
  "kernelspec": {
   "display_name": "Python 3",
   "language": "python",
   "name": "python3"
  },
  "language_info": {
   "codemirror_mode": {
    "name": "ipython",
    "version": 3
   },
   "file_extension": ".py",
   "mimetype": "text/x-python",
   "name": "python",
   "nbconvert_exporter": "python",
   "pygments_lexer": "ipython3",
   "version": "3.9.1"
  }
 },
 "nbformat": 4,
 "nbformat_minor": 5
}
