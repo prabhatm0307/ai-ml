{
 "cells": [
  {
   "cell_type": "markdown",
   "id": "superb-singing",
   "metadata": {},
   "source": [
    "3 important steps:\n",
    "    1. Missing Values\n",
    "    2. One hot encoding\n",
    "    3. Normalisation\n",
    " \n",
    " \n",
    "When there is only categorical columns in targer and predicted score, then we have to start with hypothesis testing rather than algorithm.\n",
    "\n",
    "Use Joint plot using kde for huge dataset\n",
    "\n",
    "**** CLass Imbalance \n",
    "\n",
    "Oversampling and undersampling\n",
    "Increase the sample records for minority class\n",
    "\n",
    "\n",
    "Bais-Variance Error:\n",
    "1. Irreducable Error\n",
    "2. Bias Error\n",
    "3. Variance Error\n",
    "\n",
    "Logistic Regularisation: Has term C(hyper paramater) : 1/lambda \n",
    "High Lambda -Less C value -  High Penality - Underfitting\n",
    "Low Lambda - High C Value - Low Penality - Overfitting\n",
    "\n",
    "\n",
    "**Information gain**\n",
    "\n",
    "Entropy is higher for coin toss than dicing \n",
    "\n",
    "\n",
    "Heterogenous Weakness \n",
    "\n",
    "Bagging - Less variance but more bias  - Homegenous weakness in parallel execution\n",
    "\n",
    "Boosting and Stcking - less bais more variance -\n",
    "\n",
    "Bossting - Homegenous weak learner model in sequential\n",
    "Stacking - Heterogenous weak learner model in paralell\n",
    "\n",
    "Cross validation - consider sample without replacement\n",
    "Bootstraping - consider sample with replacement\n",
    "\n",
    "**try Feature importance in decision tree vs random forest**\n",
    "**Regression tree vs linear regression**\n",
    "\n",
    "*Superlearner** in stacking \n",
    "Meta-model has to be linear model in stacking"
   ]
  },
  {
   "cell_type": "code",
   "execution_count": 1,
   "id": "unauthorized-registrar",
   "metadata": {},
   "outputs": [
    {
     "name": "stdout",
     "output_type": "stream",
     "text": [
      "\n",
      "Dictionary with each item as a pair: \n",
      "{1: 'Geeks', 2: 'For'}\n"
     ]
    }
   ],
   "source": [
    "Dict = dict([(1, 'Geeks'), (2, 'For')])\n",
    "print(\"\\nDictionary with each item as a pair: \")\n",
    "print(Dict)"
   ]
  },
  {
   "cell_type": "code",
   "execution_count": 2,
   "id": "intended-globe",
   "metadata": {},
   "outputs": [],
   "source": [
    "Dict = dict([(12, 'Geeks'), (23, 'For')])"
   ]
  },
  {
   "cell_type": "code",
   "execution_count": 3,
   "id": "acute-syracuse",
   "metadata": {},
   "outputs": [
    {
     "name": "stdout",
     "output_type": "stream",
     "text": [
      "{12: 'Geeks', 23: 'For'}\n"
     ]
    }
   ],
   "source": [
    "print(Dict)"
   ]
  },
  {
   "cell_type": "code",
   "execution_count": 6,
   "id": "employed-beast",
   "metadata": {},
   "outputs": [],
   "source": [
    "models=dict()\n",
    "models['Linear Regression']='lm'\n",
    "models['Lasso Regression']='lm_lasso'"
   ]
  },
  {
   "cell_type": "code",
   "execution_count": 9,
   "id": "canadian-operation",
   "metadata": {},
   "outputs": [
    {
     "data": {
      "text/plain": [
       "dict_values(['lm', 'lm_lasso'])"
      ]
     },
     "execution_count": 9,
     "metadata": {},
     "output_type": "execute_result"
    }
   ],
   "source": [
    "models.values()"
   ]
  },
  {
   "cell_type": "code",
   "execution_count": null,
   "id": "broad-archives",
   "metadata": {},
   "outputs": [],
   "source": []
  }
 ],
 "metadata": {
  "kernelspec": {
   "display_name": "Python 3",
   "language": "python",
   "name": "python3"
  },
  "language_info": {
   "codemirror_mode": {
    "name": "ipython",
    "version": 3
   },
   "file_extension": ".py",
   "mimetype": "text/x-python",
   "name": "python",
   "nbconvert_exporter": "python",
   "pygments_lexer": "ipython3",
   "version": "3.9.1"
  }
 },
 "nbformat": 4,
 "nbformat_minor": 5
}
