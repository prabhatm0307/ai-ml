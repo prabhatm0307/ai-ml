{
 "cells": [
  {
   "cell_type": "markdown",
   "id": "superb-singing",
   "metadata": {},
   "source": [
    "3 important steps:\n",
    "    1. Missing Values\n",
    "    2. One hot encoding\n",
    "    3. Normalisation\n",
    " \n",
    " \n",
    "When there is only categorical columns in targer and predicted score, then we have to start with hypothesis testing rather than algorithm.\n",
    "\n",
    "Use Joint plot using kde for huge dataset\n",
    "\n",
    "**** CLass Imbalance \n",
    "\n",
    "Oversampling and undersampling\n",
    "Increase the sample records for minority class\n",
    "\n",
    "\n",
    "Bais-Variance Error:\n",
    "1. Irreducable Error\n",
    "2. Bias Error\n",
    "3. Variance Error\n",
    "\n",
    "Logistic Regularisation: Has term C(hyper paramater) : 1/lambda \n",
    "High Lambda -Less C value -  High Penality - Underfitting\n",
    "Low Lambda - High C Value - Low Penality - Overfitting\n"
   ]
  }
 ],
 "metadata": {
  "kernelspec": {
   "display_name": "Python 3",
   "language": "python",
   "name": "python3"
  },
  "language_info": {
   "codemirror_mode": {
    "name": "ipython",
    "version": 3
   },
   "file_extension": ".py",
   "mimetype": "text/x-python",
   "name": "python",
   "nbconvert_exporter": "python",
   "pygments_lexer": "ipython3",
   "version": "3.9.1"
  }
 },
 "nbformat": 4,
 "nbformat_minor": 5
}
