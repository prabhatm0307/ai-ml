{
 "cells": [
  {
   "cell_type": "code",
   "execution_count": null,
   "id": "approved-endorsement",
   "metadata": {},
   "outputs": [],
   "source": []
  },
  {
   "cell_type": "code",
   "execution_count": null,
   "id": "veterinary-lotus",
   "metadata": {},
   "outputs": [],
   "source": [
    "dummy = test_df[['Pclass','Embarked','Deck',\"Sex\"]]\n",
    "dummy = pd.get_dummies(dummy,drop_first=True)\n",
    "train_df = pd.concat([dummy,test_df],axis = 1)\n",
    "## dropping columns for which dummy variables were created\n",
    "test_df.drop(['Pclass','Embarked','Deck',\"Sex\",'Fare'], axis = 1, inplace = True)\n",
    "test_df.shape"
   ]
  },
  {
   "cell_type": "code",
   "execution_count": null,
   "id": "historical-conference",
   "metadata": {},
   "outputs": [],
   "source": []
  },
  {
   "cell_type": "code",
   "execution_count": null,
   "id": "immediate-hurricane",
   "metadata": {},
   "outputs": [],
   "source": []
  }
 ],
 "metadata": {
  "kernelspec": {
   "display_name": "Python 3",
   "language": "python",
   "name": "python3"
  },
  "language_info": {
   "codemirror_mode": {
    "name": "ipython",
    "version": 3
   },
   "file_extension": ".py",
   "mimetype": "text/x-python",
   "name": "python",
   "nbconvert_exporter": "python",
   "pygments_lexer": "ipython3",
   "version": "3.9.1"
  }
 },
 "nbformat": 4,
 "nbformat_minor": 5
}
