{
 "cells": [
  {
   "cell_type": "markdown",
   "id": "acoustic-producer",
   "metadata": {},
   "source": [
    "### Hypothesis Testing\n",
    "\n",
    "Inferential statistics is used to find some population parameter (mostly population mean) when you have no initial number to start with. So, you start with the sampling activity and find out the sample mean. Then, you estimate the population mean from the sample mean using the confidence interval.\n",
    "\n",
    " \n",
    "\n",
    "Hypothesis testing is used to confirm your conclusion (or hypothesis) about the population parameter (which you know from EDA or your intuition). Through hypothesis testing, you can determine whether there is enough evidence to conclude if the hypothesis about the population parameter is true or not.\n",
    "\n",
    "Hypothesis Testing starts with the formulation of these two hypotheses:\n",
    "\n",
    "Null hypothesis (H₀): The status quo\n",
    "\n",
    "Alternate hypothesis (H₁): The challenge to the status quo\n",
    "\n",
    "Outcome will never be accepting the Null Hypothesis. It will be:\n",
    "1. Rejected the Null Hypothesis - Accepted Alternate Hypothesis\n",
    "2. Failed to reject null Hypothesis\n",
    "\n",
    "The null hypothesis always has the following signs:  =  OR   ≤   OR    ≥\n",
    "\n",
    "The alternate hypothesis always has the following signs:  ≠   OR  >   OR    <\n",
    "\n",
    "For example:  \n",
    "\n",
    "Situation 1:  Flipkart claimed that its total valuation in December 2016 was at least $14 billion. Here, the claim contains ≥ sign (i.e. the at least sign), so the null hypothesis is the original claim.\n",
    "\n",
    "Situation 2:  Flipkart claimed that its total valuation in December 2016 was greater than $14 billion. Here, the claim contains > sign (i.e. the ‘more than’ sign), so the null hypothesis is the complement of the original claim.\n",
    "\n",
    "To summarize this, you cannot decide the status quo or formulate the null hypotheses from the claim statement, you need to take care of signs in writing the null hypothesis. Null Hypothesis never contains ≠ or > or < signs. It always has to be formulated using = or ≤ or ≥ signs.\n",
    "\n",
    "#### Making a Decision\n",
    "\n",
    "The formulation of the null and alternate hypotheses determines the type of the test and the position of the critical regions in the normal distribution.\n",
    "\n",
    "You can tell the type of the test and the position of the critical region on the basis of the ‘sign’ in the alternate hypothesis.\n",
    "\n",
    "      \n",
    "\n",
    "       ≠ in H₁    →   Two-tailed test        →     Rejection region on both sides of distribution\n",
    "\n",
    "       < in H₁    →   Lower-tailed test     →     Rejection region on left side of distribution\n",
    "\n",
    "       > in H₁    →   Upper-tailed test     →     Rejection region on right side of distribution\n",
    "       \n",
    "#### Critical Value Method\n"
   ]
  },
  {
   "cell_type": "code",
   "execution_count": null,
   "id": "fresh-planning",
   "metadata": {},
   "outputs": [],
   "source": []
  }
 ],
 "metadata": {
  "kernelspec": {
   "display_name": "Python 3",
   "language": "python",
   "name": "python3"
  },
  "language_info": {
   "codemirror_mode": {
    "name": "ipython",
    "version": 3
   },
   "file_extension": ".py",
   "mimetype": "text/x-python",
   "name": "python",
   "nbconvert_exporter": "python",
   "pygments_lexer": "ipython3",
   "version": "3.9.1"
  }
 },
 "nbformat": 4,
 "nbformat_minor": 5
}
