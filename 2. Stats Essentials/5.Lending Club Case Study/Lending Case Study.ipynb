{
 "cells": [
  {
   "cell_type": "code",
   "execution_count": 41,
   "id": "hired-surge",
   "metadata": {},
   "outputs": [
    {
     "name": "stdout",
     "output_type": "stream",
     "text": [
      "ASCII\n"
     ]
    }
   ],
   "source": [
    "import sys\n",
    "import pandas as pd\n",
    "import cchardet as chardet\n",
    "# look at the first ten thousand bytes to guess the character encoding\n",
    "with open(\"loan.csv\", 'rb') as rawdata:\n",
    "    result = chardet.detect(rawdata.read(10000))\n",
    "# check what the character encoding might be\n",
    "print(result['encoding'])"
   ]
  },
  {
   "cell_type": "code",
   "execution_count": 38,
   "id": "capable-output",
   "metadata": {},
   "outputs": [],
   "source": [
    "pd.set_option('display.max_columns', 120)\n",
    "pd.set_option('display.max_colwidth', None) # make sure data and columns are displayed correctly withput purge\n",
    "pd.options.display.float_format = '{:20,.2f}'.format # display float value with correct precision \n",
    "encoding=\"UTF-8\"\n",
    "loan_df = pd.read_csv(\"loan.csv\",low_memory = False,encoding = encoding)"
   ]
  },
  {
   "cell_type": "code",
   "execution_count": 42,
   "id": "excellent-split",
   "metadata": {},
   "outputs": [],
   "source": [
    "# Method to determine metadata of any dataframe\n",
    "def getMetadata(df) :\n",
    "    metadata_info = pd.DataFrame({\n",
    "        'Total_Element': df.count(), # total elements in columns            \n",
    "        'Datatype' : df.dtypes, # data types of columns\n",
    "        'Null_Count': df.isnull().sum(), # total null values in columns\n",
    "        'Null_Percent': df.isnull().sum()/len(df) * 100 # percentage of null values\n",
    "                       })\n",
    "    return metadata_info"
   ]
  },
  {
   "cell_type": "code",
   "execution_count": 63,
   "id": "single-regular",
   "metadata": {},
   "outputs": [
    {
     "data": {
      "text/html": [
       "<div>\n",
       "<style scoped>\n",
       "    .dataframe tbody tr th:only-of-type {\n",
       "        vertical-align: middle;\n",
       "    }\n",
       "\n",
       "    .dataframe tbody tr th {\n",
       "        vertical-align: top;\n",
       "    }\n",
       "\n",
       "    .dataframe thead th {\n",
       "        text-align: right;\n",
       "    }\n",
       "</style>\n",
       "<table border=\"1\" class=\"dataframe\">\n",
       "  <thead>\n",
       "    <tr style=\"text-align: right;\">\n",
       "      <th></th>\n",
       "      <th>Total_Element</th>\n",
       "      <th>Datatype</th>\n",
       "      <th>Null_Count</th>\n",
       "      <th>Null_Percent</th>\n",
       "    </tr>\n",
       "  </thead>\n",
       "  <tbody>\n",
       "    <tr>\n",
       "      <th>mths_since_last_record</th>\n",
       "      <td>2786</td>\n",
       "      <td>float64</td>\n",
       "      <td>36931</td>\n",
       "      <td>92.99</td>\n",
       "    </tr>\n",
       "    <tr>\n",
       "      <th>next_pymnt_d</th>\n",
       "      <td>1140</td>\n",
       "      <td>object</td>\n",
       "      <td>38577</td>\n",
       "      <td>97.13</td>\n",
       "    </tr>\n",
       "  </tbody>\n",
       "</table>\n",
       "</div>"
      ],
      "text/plain": [
       "                        Total_Element Datatype  Null_Count  \\\n",
       "mths_since_last_record           2786  float64       36931   \n",
       "next_pymnt_d                     1140   object       38577   \n",
       "\n",
       "                               Null_Percent  \n",
       "mths_since_last_record                92.99  \n",
       "next_pymnt_d                          97.13  "
      ]
     },
     "execution_count": 63,
     "metadata": {},
     "output_type": "execute_result"
    }
   ],
   "source": [
    "null_col=getMetadata(loan_df)\n",
    "null_col[(null_col.Null_Percent<100.00) & (null_col.Null_Percent>75.00)]"
   ]
  },
  {
   "cell_type": "code",
   "execution_count": 71,
   "id": "neutral-necessity",
   "metadata": {},
   "outputs": [
    {
     "data": {
      "text/plain": [
       "pymnt_plan                    1\n",
       "initial_list_status           1\n",
       "collections_12_mths_ex_med    1\n",
       "policy_code                   1\n",
       "application_type              1\n",
       "acc_now_delinq                1\n",
       "chargeoff_within_12_mths      1\n",
       "delinq_amnt                   1\n",
       "tax_liens                     1\n",
       "dtype: int64"
      ]
     },
     "execution_count": 71,
     "metadata": {},
     "output_type": "execute_result"
    }
   ],
   "source": [
    "unique_value = loan_df.nunique()\n",
    "unique_value[unique_value.values == 1]"
   ]
  },
  {
   "cell_type": "code",
   "execution_count": 80,
   "id": "democratic-biology",
   "metadata": {},
   "outputs": [
    {
     "data": {
      "text/plain": [
       "0.00    39678\n",
       "Name: tax_liens, dtype: int64"
      ]
     },
     "execution_count": 80,
     "metadata": {},
     "output_type": "execute_result"
    }
   ],
   "source": [
    "loan_df[\"tax_liens\"].value_counts()"
   ]
  },
  {
   "cell_type": "code",
   "execution_count": null,
   "id": "surgical-effects",
   "metadata": {},
   "outputs": [],
   "source": []
  }
 ],
 "metadata": {
  "kernelspec": {
   "display_name": "Python 3",
   "language": "python",
   "name": "python3"
  },
  "language_info": {
   "codemirror_mode": {
    "name": "ipython",
    "version": 3
   },
   "file_extension": ".py",
   "mimetype": "text/x-python",
   "name": "python",
   "nbconvert_exporter": "python",
   "pygments_lexer": "ipython3",
   "version": "3.9.1"
  }
 },
 "nbformat": 4,
 "nbformat_minor": 5
}
