{
 "cells": [
  {
   "cell_type": "code",
   "execution_count": 5,
   "id": "hired-surge",
   "metadata": {},
   "outputs": [
    {
     "name": "stdout",
     "output_type": "stream",
     "text": [
      "ASCII\n"
     ]
    }
   ],
   "source": [
    "import sys\n",
    "import pandas as pd\n",
    "import cchardet as chardet\n",
    "# look at the first ten thousand bytes to guess the character encoding\n",
    "with open(\"loan.csv\", 'rb') as rawdata:\n",
    "    result = chardet.detect(rawdata.read(10000))\n",
    "# check what the character encoding might be\n",
    "print(result['encoding'])"
   ]
  },
  {
   "cell_type": "code",
   "execution_count": 6,
   "id": "capable-output",
   "metadata": {},
   "outputs": [
    {
     "data": {
      "text/plain": [
       "(39717, 111)"
      ]
     },
     "execution_count": 6,
     "metadata": {},
     "output_type": "execute_result"
    }
   ],
   "source": [
    "pd.set_option('display.max_columns', 120)\n",
    "pd.set_option('display.max_colwidth', None) # make sure data and columns are displayed correctly withput purge\n",
    "pd.options.display.float_format = '{:20,.2f}'.format # display float value with correct precision \n",
    "encoding=\"UTF-8\"\n",
    "loan_df = pd.read_csv(\"loan.csv\",low_memory = False,encoding = encoding)\n",
    "loan_df.shape"
   ]
  },
  {
   "cell_type": "code",
   "execution_count": 7,
   "id": "excellent-split",
   "metadata": {},
   "outputs": [],
   "source": [
    "# Method to determine metadata of any dataframe\n",
    "def getMetadata(df) :\n",
    "    metadata_info = pd.DataFrame({\n",
    "        'Total_Element': df.count(), # total elements in columns            \n",
    "        'Datatype' : df.dtypes, # data types of columns\n",
    "        'Null_Count': df.isnull().sum(), # total null values in columns\n",
    "        'Null_Percent': df.isnull().sum()/len(df) * 100 # percentage of null values\n",
    "                       })\n",
    "    return metadata_info"
   ]
  },
  {
   "cell_type": "code",
   "execution_count": 19,
   "id": "scheduled-tactics",
   "metadata": {},
   "outputs": [
    {
     "data": {
      "text/plain": [
       "  0.00    443\n",
       " 15.00    252\n",
       " 30.00    247\n",
       " 23.00    247\n",
       " 24.00    241\n",
       "         ... \n",
       "115.00      1\n",
       "106.00      1\n",
       " 95.00      1\n",
       "120.00      1\n",
       " 89.00      1\n",
       "Name: mths_since_last_delinq, Length: 95, dtype: int64"
      ]
     },
     "execution_count": 19,
     "metadata": {},
     "output_type": "execute_result"
    }
   ],
   "source": [
    "null_col=getMetadata(loan_df)\n",
    "null_col[(null_col.Null_Percent<75.00) & (null_col.Null_Percent>20.00)]\n",
    "#null_col[(null_col.Null_Percent>30.00)].count()\n",
    "## 55 null columns drop\n",
    "## desc -drop\n",
    "loan_df.mths_since_last_delinq.value_counts()"
   ]
  },
  {
   "cell_type": "code",
   "execution_count": 20,
   "id": "neutral-necessity",
   "metadata": {},
   "outputs": [
    {
     "data": {
      "text/plain": [
       "pymnt_plan                    1\n",
       "initial_list_status           1\n",
       "collections_12_mths_ex_med    1\n",
       "policy_code                   1\n",
       "application_type              1\n",
       "acc_now_delinq                1\n",
       "chargeoff_within_12_mths      1\n",
       "delinq_amnt                   1\n",
       "tax_liens                     1\n",
       "dtype: int64"
      ]
     },
     "execution_count": 20,
     "metadata": {},
     "output_type": "execute_result"
    }
   ],
   "source": [
    "unique_value = loan_df.nunique()\n",
    "unique_value[unique_value.values == 1]"
   ]
  },
  {
   "cell_type": "code",
   "execution_count": 26,
   "id": "democratic-biology",
   "metadata": {},
   "outputs": [
    {
     "data": {
      "text/plain": [
       "n    39717\n",
       "Name: pymnt_plan, dtype: int64"
      ]
     },
     "execution_count": 26,
     "metadata": {},
     "output_type": "execute_result"
    }
   ],
   "source": [
    "loan_df[\"pymnt_plan\"].value_counts()"
   ]
  },
  {
   "cell_type": "code",
   "execution_count": 98,
   "id": "exposed-announcement",
   "metadata": {},
   "outputs": [
    {
     "data": {
      "text/html": [
       "<div>\n",
       "<style scoped>\n",
       "    .dataframe tbody tr th:only-of-type {\n",
       "        vertical-align: middle;\n",
       "    }\n",
       "\n",
       "    .dataframe tbody tr th {\n",
       "        vertical-align: top;\n",
       "    }\n",
       "\n",
       "    .dataframe thead th {\n",
       "        text-align: right;\n",
       "    }\n",
       "</style>\n",
       "<table border=\"1\" class=\"dataframe\">\n",
       "  <thead>\n",
       "    <tr style=\"text-align: right;\">\n",
       "      <th></th>\n",
       "      <th>Total_Element</th>\n",
       "      <th>Datatype</th>\n",
       "      <th>Null_Count</th>\n",
       "      <th>Null_Percent</th>\n",
       "    </tr>\n",
       "  </thead>\n",
       "  <tbody>\n",
       "    <tr>\n",
       "      <th>term</th>\n",
       "      <td>39717</td>\n",
       "      <td>object</td>\n",
       "      <td>0</td>\n",
       "      <td>0.00</td>\n",
       "    </tr>\n",
       "    <tr>\n",
       "      <th>int_rate</th>\n",
       "      <td>39717</td>\n",
       "      <td>object</td>\n",
       "      <td>0</td>\n",
       "      <td>0.00</td>\n",
       "    </tr>\n",
       "    <tr>\n",
       "      <th>grade</th>\n",
       "      <td>39717</td>\n",
       "      <td>object</td>\n",
       "      <td>0</td>\n",
       "      <td>0.00</td>\n",
       "    </tr>\n",
       "    <tr>\n",
       "      <th>sub_grade</th>\n",
       "      <td>39717</td>\n",
       "      <td>object</td>\n",
       "      <td>0</td>\n",
       "      <td>0.00</td>\n",
       "    </tr>\n",
       "    <tr>\n",
       "      <th>emp_title</th>\n",
       "      <td>37258</td>\n",
       "      <td>object</td>\n",
       "      <td>2459</td>\n",
       "      <td>6.19</td>\n",
       "    </tr>\n",
       "    <tr>\n",
       "      <th>emp_length</th>\n",
       "      <td>38642</td>\n",
       "      <td>object</td>\n",
       "      <td>1075</td>\n",
       "      <td>2.71</td>\n",
       "    </tr>\n",
       "    <tr>\n",
       "      <th>home_ownership</th>\n",
       "      <td>39717</td>\n",
       "      <td>object</td>\n",
       "      <td>0</td>\n",
       "      <td>0.00</td>\n",
       "    </tr>\n",
       "    <tr>\n",
       "      <th>verification_status</th>\n",
       "      <td>39717</td>\n",
       "      <td>object</td>\n",
       "      <td>0</td>\n",
       "      <td>0.00</td>\n",
       "    </tr>\n",
       "    <tr>\n",
       "      <th>issue_d</th>\n",
       "      <td>39717</td>\n",
       "      <td>object</td>\n",
       "      <td>0</td>\n",
       "      <td>0.00</td>\n",
       "    </tr>\n",
       "    <tr>\n",
       "      <th>loan_status</th>\n",
       "      <td>39717</td>\n",
       "      <td>object</td>\n",
       "      <td>0</td>\n",
       "      <td>0.00</td>\n",
       "    </tr>\n",
       "    <tr>\n",
       "      <th>pymnt_plan</th>\n",
       "      <td>39717</td>\n",
       "      <td>object</td>\n",
       "      <td>0</td>\n",
       "      <td>0.00</td>\n",
       "    </tr>\n",
       "    <tr>\n",
       "      <th>url</th>\n",
       "      <td>39717</td>\n",
       "      <td>object</td>\n",
       "      <td>0</td>\n",
       "      <td>0.00</td>\n",
       "    </tr>\n",
       "    <tr>\n",
       "      <th>desc</th>\n",
       "      <td>26777</td>\n",
       "      <td>object</td>\n",
       "      <td>12940</td>\n",
       "      <td>32.58</td>\n",
       "    </tr>\n",
       "    <tr>\n",
       "      <th>purpose</th>\n",
       "      <td>39717</td>\n",
       "      <td>object</td>\n",
       "      <td>0</td>\n",
       "      <td>0.00</td>\n",
       "    </tr>\n",
       "    <tr>\n",
       "      <th>title</th>\n",
       "      <td>39706</td>\n",
       "      <td>object</td>\n",
       "      <td>11</td>\n",
       "      <td>0.03</td>\n",
       "    </tr>\n",
       "    <tr>\n",
       "      <th>zip_code</th>\n",
       "      <td>39717</td>\n",
       "      <td>object</td>\n",
       "      <td>0</td>\n",
       "      <td>0.00</td>\n",
       "    </tr>\n",
       "    <tr>\n",
       "      <th>addr_state</th>\n",
       "      <td>39717</td>\n",
       "      <td>object</td>\n",
       "      <td>0</td>\n",
       "      <td>0.00</td>\n",
       "    </tr>\n",
       "    <tr>\n",
       "      <th>earliest_cr_line</th>\n",
       "      <td>39717</td>\n",
       "      <td>object</td>\n",
       "      <td>0</td>\n",
       "      <td>0.00</td>\n",
       "    </tr>\n",
       "    <tr>\n",
       "      <th>revol_util</th>\n",
       "      <td>39667</td>\n",
       "      <td>object</td>\n",
       "      <td>50</td>\n",
       "      <td>0.13</td>\n",
       "    </tr>\n",
       "    <tr>\n",
       "      <th>initial_list_status</th>\n",
       "      <td>39717</td>\n",
       "      <td>object</td>\n",
       "      <td>0</td>\n",
       "      <td>0.00</td>\n",
       "    </tr>\n",
       "    <tr>\n",
       "      <th>last_pymnt_d</th>\n",
       "      <td>39646</td>\n",
       "      <td>object</td>\n",
       "      <td>71</td>\n",
       "      <td>0.18</td>\n",
       "    </tr>\n",
       "    <tr>\n",
       "      <th>next_pymnt_d</th>\n",
       "      <td>1140</td>\n",
       "      <td>object</td>\n",
       "      <td>38577</td>\n",
       "      <td>97.13</td>\n",
       "    </tr>\n",
       "    <tr>\n",
       "      <th>last_credit_pull_d</th>\n",
       "      <td>39715</td>\n",
       "      <td>object</td>\n",
       "      <td>2</td>\n",
       "      <td>0.01</td>\n",
       "    </tr>\n",
       "    <tr>\n",
       "      <th>application_type</th>\n",
       "      <td>39717</td>\n",
       "      <td>object</td>\n",
       "      <td>0</td>\n",
       "      <td>0.00</td>\n",
       "    </tr>\n",
       "  </tbody>\n",
       "</table>\n",
       "</div>"
      ],
      "text/plain": [
       "                     Total_Element Datatype  Null_Count         Null_Percent\n",
       "term                         39717   object           0                 0.00\n",
       "int_rate                     39717   object           0                 0.00\n",
       "grade                        39717   object           0                 0.00\n",
       "sub_grade                    39717   object           0                 0.00\n",
       "emp_title                    37258   object        2459                 6.19\n",
       "emp_length                   38642   object        1075                 2.71\n",
       "home_ownership               39717   object           0                 0.00\n",
       "verification_status          39717   object           0                 0.00\n",
       "issue_d                      39717   object           0                 0.00\n",
       "loan_status                  39717   object           0                 0.00\n",
       "pymnt_plan                   39717   object           0                 0.00\n",
       "url                          39717   object           0                 0.00\n",
       "desc                         26777   object       12940                32.58\n",
       "purpose                      39717   object           0                 0.00\n",
       "title                        39706   object          11                 0.03\n",
       "zip_code                     39717   object           0                 0.00\n",
       "addr_state                   39717   object           0                 0.00\n",
       "earliest_cr_line             39717   object           0                 0.00\n",
       "revol_util                   39667   object          50                 0.13\n",
       "initial_list_status          39717   object           0                 0.00\n",
       "last_pymnt_d                 39646   object          71                 0.18\n",
       "next_pymnt_d                  1140   object       38577                97.13\n",
       "last_credit_pull_d           39715   object           2                 0.01\n",
       "application_type             39717   object           0                 0.00"
      ]
     },
     "execution_count": 98,
     "metadata": {},
     "output_type": "execute_result"
    }
   ],
   "source": [
    "null_col[null_col.Datatype=='object']"
   ]
  }
 ],
 "metadata": {
  "kernelspec": {
   "display_name": "Python 3",
   "language": "python",
   "name": "python3"
  },
  "language_info": {
   "codemirror_mode": {
    "name": "ipython",
    "version": 3
   },
   "file_extension": ".py",
   "mimetype": "text/x-python",
   "name": "python",
   "nbconvert_exporter": "python",
   "pygments_lexer": "ipython3",
   "version": "3.9.1"
  }
 },
 "nbformat": 4,
 "nbformat_minor": 5
}
