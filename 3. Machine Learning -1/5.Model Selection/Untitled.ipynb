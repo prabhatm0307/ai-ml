{
 "cells": [
  {
   "cell_type": "markdown",
   "id": "intellectual-interaction",
   "metadata": {},
   "source": [
    "### Model Selection\n",
    "\n",
    "1. <b>Occam's razor</b> is perhaps the most important thumb rule in machine learning and is incredibly 'simple' at the same time. When in dilemma, choose the simpler model"
   ]
  },
  {
   "cell_type": "code",
   "execution_count": null,
   "id": "express-shopper",
   "metadata": {},
   "outputs": [],
   "source": []
  }
 ],
 "metadata": {
  "kernelspec": {
   "display_name": "Python 3",
   "language": "python",
   "name": "python3"
  },
  "language_info": {
   "codemirror_mode": {
    "name": "ipython",
    "version": 3
   },
   "file_extension": ".py",
   "mimetype": "text/x-python",
   "name": "python",
   "nbconvert_exporter": "python",
   "pygments_lexer": "ipython3",
   "version": "3.9.1"
  }
 },
 "nbformat": 4,
 "nbformat_minor": 5
}
