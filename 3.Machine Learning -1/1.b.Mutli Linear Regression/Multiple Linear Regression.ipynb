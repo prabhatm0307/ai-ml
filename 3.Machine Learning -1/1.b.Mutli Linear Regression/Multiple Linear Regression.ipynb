{
 "cells": [
  {
   "cell_type": "markdown",
   "id": "metallic-allergy",
   "metadata": {},
   "source": [
    "#### Multiple Linear Regression\n",
    "\n",
    "In multiple linear regression, there are more than one independent values. Multiple linear regression proved to be useful in creating a better model, as there was a significant change in the value of R-squared.\n",
    "\n",
    "$ Y = {\\beta}_{0} + {\\beta}_{1}{X}_{1} + {\\beta}_{2}{X}_{2} + {\\beta}_{3}{X}_{3}... + {\\beta}_{n}{X}_{n} $\n",
    "\n",
    "Apart from the formulation, there are some other aspects that still remain the same:\n",
    "\n",
    "1. The model now fits a hyperplane instead of a line\n",
    "2. Coefficients are still obtained by minimising the sum of squared errors, the least squares criteria\n",
    "3. For inference, the assumptions from simple linear regression still hold - zero-mean, independent and normally distributed error terms with constant variance\n",
    "\n",
    "\n",
    "The new aspects to consider when moving from simple to multiple linear regression are:\n",
    "\n",
    "1. Overfitting\n",
    "    As you keep adding the variables, the model may become far too complex. It may end up memorising the training data and will fail to generalise. A model is generally said to overfit when the training accuracy is high while the test accuracy is very low\n",
    "    \n",
    "2. Multicollinearity\n",
    "    Associations between predictor variables, which you will study later\n",
    "\n",
    "3. Feature selection\n",
    "    Selecting the optimal set from a pool of given features, many of which might be redundant becomes an important task"
   ]
  },
  {
   "cell_type": "code",
   "execution_count": 17,
   "id": "published-seating",
   "metadata": {},
   "outputs": [
    {
     "data": {
      "text/html": [
       "<div>\n",
       "<style scoped>\n",
       "    .dataframe tbody tr th:only-of-type {\n",
       "        vertical-align: middle;\n",
       "    }\n",
       "\n",
       "    .dataframe tbody tr th {\n",
       "        vertical-align: top;\n",
       "    }\n",
       "\n",
       "    .dataframe thead th {\n",
       "        text-align: right;\n",
       "    }\n",
       "</style>\n",
       "<table border=\"1\" class=\"dataframe\">\n",
       "  <thead>\n",
       "    <tr style=\"text-align: right;\">\n",
       "      <th></th>\n",
       "      <th>Name</th>\n",
       "      <th>Response</th>\n",
       "    </tr>\n",
       "  </thead>\n",
       "  <tbody>\n",
       "    <tr>\n",
       "      <th>0</th>\n",
       "      <td>Reetesh</td>\n",
       "      <td>0.0</td>\n",
       "    </tr>\n",
       "    <tr>\n",
       "      <th>1</th>\n",
       "      <td>Shruti</td>\n",
       "      <td>0.5</td>\n",
       "    </tr>\n",
       "    <tr>\n",
       "      <th>2</th>\n",
       "      <td>Kaustubh</td>\n",
       "      <td>1.0</td>\n",
       "    </tr>\n",
       "    <tr>\n",
       "      <th>3</th>\n",
       "      <td>Vikas</td>\n",
       "      <td>1.0</td>\n",
       "    </tr>\n",
       "    <tr>\n",
       "      <th>4</th>\n",
       "      <td>Mahima</td>\n",
       "      <td>0.5</td>\n",
       "    </tr>\n",
       "    <tr>\n",
       "      <th>5</th>\n",
       "      <td>Akshay</td>\n",
       "      <td>1.0</td>\n",
       "    </tr>\n",
       "  </tbody>\n",
       "</table>\n",
       "</div>"
      ],
      "text/plain": [
       "       Name  Response\n",
       "0   Reetesh       0.0\n",
       "1    Shruti       0.5\n",
       "2  Kaustubh       1.0\n",
       "3     Vikas       1.0\n",
       "4    Mahima       0.5\n",
       "5    Akshay       1.0"
      ]
     },
     "execution_count": 17,
     "metadata": {},
     "output_type": "execute_result"
    }
   ],
   "source": [
    "import ast,sys\n",
    "import pandas as pd \n",
    "\n",
    "name = ['Reetesh', 'Shruti', 'Kaustubh', 'Vikas', 'Mahima', 'Akshay']\n",
    "response = ['No', 'Maybe', 'yes', 'Yes', 'maybe', 'Yes']\n",
    "\n",
    "\n",
    "df = pd.DataFrame({'Name': name,'Response': response})\n",
    "df['Response']=df['Response'].apply(lambda x:x.lower())\n",
    "df[['Response']]=df[['Response']].apply(lambda x: x.map({'yes': 1,'no': 0,'maybe': 0.5}))\n",
    "df"
   ]
  },
  {
   "cell_type": "code",
   "execution_count": null,
   "id": "nasty-davis",
   "metadata": {},
   "outputs": [],
   "source": []
  }
 ],
 "metadata": {
  "kernelspec": {
   "display_name": "Python 3",
   "language": "python",
   "name": "python3"
  },
  "language_info": {
   "codemirror_mode": {
    "name": "ipython",
    "version": 3
   },
   "file_extension": ".py",
   "mimetype": "text/x-python",
   "name": "python",
   "nbconvert_exporter": "python",
   "pygments_lexer": "ipython3",
   "version": "3.9.1"
  }
 },
 "nbformat": 4,
 "nbformat_minor": 5
}
