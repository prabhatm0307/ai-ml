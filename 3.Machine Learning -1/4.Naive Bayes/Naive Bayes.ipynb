{
 "cells": [
  {
   "cell_type": "markdown",
   "id": "confident-workshop",
   "metadata": {},
   "source": [
    "### Introduction:\n",
    "\n",
    "Naive Bayes is Supervised Classification Algorithm used for Text Classification like email is ham or spam.\n",
    "\n",
    "#### Conditional Probability and its intution:\n",
    "\n",
    "2 terms:\n",
    "\n",
    "1. Prior: Proability before knowing situation\n",
    "\n",
    "P(Play) = 20/30 days = 2/3  = 66%\n",
    "P(Spam) = 1/5 emails = 20%\n",
    "\n",
    "2. Posterior:Proability post knowing situation\n",
    "P(Play|Rain) = 10%\n",
    "P(Spam|Word=Viagara) = 70%\n",
    "\n"
   ]
  }
 ],
 "metadata": {
  "kernelspec": {
   "display_name": "Python 3",
   "language": "python",
   "name": "python3"
  },
  "language_info": {
   "codemirror_mode": {
    "name": "ipython",
    "version": 3
   },
   "file_extension": ".py",
   "mimetype": "text/x-python",
   "name": "python",
   "nbconvert_exporter": "python",
   "pygments_lexer": "ipython3",
   "version": "3.9.1"
  }
 },
 "nbformat": 4,
 "nbformat_minor": 5
}
