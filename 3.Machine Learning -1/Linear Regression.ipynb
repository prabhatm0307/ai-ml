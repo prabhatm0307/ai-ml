{
 "cells": [
  {
   "cell_type": "markdown",
   "id": "transparent-instrument",
   "metadata": {},
   "source": [
    "#### Linear Regression\n",
    "\n",
    "Linear Regression is a predective model to find a linear relationship b/w a dependent variable and one or more indepedent variable.\n",
    "Depedent variables have to be continous values\n",
    "\n",
    "Y = F(x)\n",
    "\n",
    "Y = mX + C\n",
    "\n",
    "where m and c are co-efficients\n",
    "\n",
    "$ m = (x - \\bar{x})(y - \\bar{y}) /   $\n",
    "\n",
    "$\\hat{Y} = \\hat{\\beta}_{0} + \\sum \\limits _{j=1} ^{p} X_{j}\\hat{\\beta}_{j} $"
   ]
  }
 ],
 "metadata": {
  "kernelspec": {
   "display_name": "Python 3",
   "language": "python",
   "name": "python3"
  },
  "language_info": {
   "codemirror_mode": {
    "name": "ipython",
    "version": 3
   },
   "file_extension": ".py",
   "mimetype": "text/x-python",
   "name": "python",
   "nbconvert_exporter": "python",
   "pygments_lexer": "ipython3",
   "version": "3.9.1"
  }
 },
 "nbformat": 4,
 "nbformat_minor": 5
}
