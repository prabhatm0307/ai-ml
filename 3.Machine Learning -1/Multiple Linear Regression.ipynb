{
 "cells": [
  {
   "cell_type": "markdown",
   "id": "metallic-allergy",
   "metadata": {},
   "source": [
    "#### Multiple Linear Regression\n",
    "\n",
    "In multiple linear regression, there are more than one independent values. Multiple linear regression proved to be useful in creating a better model, as there was a significant change in the value of R-squared.\n",
    "\n",
    "$ Y = {\\beta}_{0} + {\\beta}_{1}{X}_{1} + {\\beta}_{2}{X}_{2} + {\\beta}_{3}{X}_{3}... + {\\beta}_{n}{X}_{n} $\n",
    "\n",
    "Apart from the formulation, there are some other aspects that still remain the same:\n",
    "\n",
    "1. The model now fits a hyperplane instead of a line\n",
    "2. Coefficients are still obtained by minimising the sum of squared errors, the least squares criteria\n",
    "3. For inference, the assumptions from simple linear regression still hold - zero-mean, independent and normally distributed error terms with constant variance\n",
    "\n",
    "\n",
    "The new aspects to consider when moving from simple to multiple linear regression are:\n",
    "\n",
    "1. Overfitting\n",
    "    As you keep adding the variables, the model may become far too complex. It may end up memorising the training data and will fail to generalise. A model is generally said to overfit when the training accuracy is high while the test accuracy is very low\n",
    "    \n",
    "2. Multicollinearity\n",
    "    Associations between predictor variables, which you will study later\n",
    "\n",
    "3. Feature selection\n",
    "    Selecting the optimal set from a pool of given features, many of which might be redundant becomes an important task"
   ]
  }
 ],
 "metadata": {
  "kernelspec": {
   "display_name": "Python 3",
   "language": "python",
   "name": "python3"
  },
  "language_info": {
   "codemirror_mode": {
    "name": "ipython",
    "version": 3
   },
   "file_extension": ".py",
   "mimetype": "text/x-python",
   "name": "python",
   "nbconvert_exporter": "python",
   "pygments_lexer": "ipython3",
   "version": "3.9.1"
  }
 },
 "nbformat": 4,
 "nbformat_minor": 5
}
