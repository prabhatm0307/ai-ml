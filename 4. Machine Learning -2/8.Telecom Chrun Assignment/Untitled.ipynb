{
 "cells": [
  {
   "cell_type": "code",
   "execution_count": null,
   "id": "conservative-marshall",
   "metadata": {},
   "outputs": [],
   "source": [
    "Telecom Churn:\n",
    "    \n",
    "Missing Value Treatment:\n",
    "    1. Impute recharge column with 0\n",
    "    2. Drop columns with data missing greater than 70%\n",
    "    3. Seperate value imputation for categorical columns\n",
    "    \n",
    "Filter High Value Customers: filter customers for utilisation using 6 and 7 months info and 70% percentile\n",
    "\n",
    "Filter 9th month data as it will be used for target\n"
   ]
  }
 ],
 "metadata": {
  "kernelspec": {
   "display_name": "Python 3",
   "language": "python",
   "name": "python3"
  },
  "language_info": {
   "codemirror_mode": {
    "name": "ipython",
    "version": 3
   },
   "file_extension": ".py",
   "mimetype": "text/x-python",
   "name": "python",
   "nbconvert_exporter": "python",
   "pygments_lexer": "ipython3",
   "version": "3.9.1"
  }
 },
 "nbformat": 4,
 "nbformat_minor": 5
}
